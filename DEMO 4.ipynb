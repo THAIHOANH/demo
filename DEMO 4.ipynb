{
 "cells": [
  {
   "cell_type": "code",
   "execution_count": 4,
   "id": "1ad99695-8352-422f-862f-cb12a3050ca8",
   "metadata": {},
   "outputs": [],
   "source": [
    "from pyspark.sql import SparkSession\n",
    "from pyspark.sql import functions as f\n",
    "from pyspark.ml.recommendation import ALS\n",
    "from pyspark.mllib.evaluation import RegressionMetrics, RankingMetrics\n",
    "from pyspark.ml.evaluation import RegressionEvaluator\n",
    "from pyspark.ml import Pipeline\n",
    "from IPython.display import display, Image\n",
    "from sklearn.feature_extraction.text import CountVectorizer\n",
    "from sklearn.metrics.pairwise import  cosine_similarity\n",
    "import pandas as pd \n",
    "from pyspark.sql.types import StructType,StructField, StringType\n",
    "\n",
    "spark = SparkSession.builder.getOrCreate()"
   ]
  },
  {
   "cell_type": "code",
   "execution_count": 5,
   "id": "c3254389-96eb-4f17-91e1-5093131d3584",
   "metadata": {},
   "outputs": [
    {
     "name": "stdout",
     "output_type": "stream",
     "text": [
      "+-----------+--------------------+---+------------+------------+----+-------------+-----------+----------------+---------------------+-----------------------+\n",
      "|YearofStudy|              Course|Age|ApproxHeight|ApproxWeight|KCSE|Yr_JoinCampus|    SitKCSE|Expense_Semester|Expense_Accommodation|Previous_Exam_MeanGrade|\n",
      "+-----------+--------------------+---+------------+------------+----+-------------+-----------+----------------+---------------------+-----------------------+\n",
      "|Second Year|         MATHEMATICS| 20|         152|          80|2016|         2018|   Central |            8744|                 6043|                      B|\n",
      "| First Year|ECONOMICS AND STA...| 29|         182|          79|2010|         2010|Rift Valley|           26293|                14782|                      B|\n",
      "|Fourth Year|         MATHEMATICS| 22|         167|          64|2015|         2016|    Western|           44105|                19224|                      B|\n",
      "|Second Year|ECONOMICS AND STA...| 23|         149|          52|2016|         2018|      Coast|           33954|                18795|                      B|\n",
      "|Second Year|         MATHEMATICS| 18|         150|          70|2013|         2018|    Western|           18113|                25569|                      A|\n",
      "| Third Year|      URBAN PLANNING| 20|         154|          56|2016|         2017|   Central |           11648|                41028|                      A|\n",
      "| Third Year|         MATHEMATICS| 21|         165|          79|2016|         2017|Rift Valley|           39252|                44024|                      A|\n",
      "| Third Year|         MATHEMATICS| 21|         162|          57|2016|         2017|     Nyanza|           38174|                36925|                      B|\n",
      "|Fourth Year|   ACTUARIAL SCIENCE| 22|         154|          53|2015|         2016|     Nyanza|           40833|                27034|                      B|\n",
      "|Fourth Year|           ECONOMICS| 21|         172|          57|2015|         2016|Rift Valley|           42264|                26059|                      B|\n",
      "| Third Year|         MATHEMATICS| 22|         172|          78|2016|         2017|      Coast|            6811|                39242|                      C|\n",
      "|Second Year|         MATHEMATICS| 22|         160|          60|2015|         2016|      Coast|           34148|                37578|                      B|\n",
      "|Fourth Year|         MATHEMATICS| 23|         170|          66|2015|         2016|    Nairobi|           49155|                21501|                      B|\n",
      "| First Year|ECONOMICS AND STA...| 20|         167|          79|2010|         2010|    Nairobi|           23654|                17407|                      C|\n",
      "|Second Year|ECONOMICS AND STA...| 34|         176|          80|2012|         2012|   Eastern |           32733|                39019|                      E|\n",
      "| Third Year|          STATISTICS| 20|         150|          54|2016|         2017|   Central |           45232|                35910|                      B|\n",
      "| Third Year|ECONOMICS AND STA...| 21|         167|          45|2016|         2017|    Nairobi|           28393|                 9384|                      B|\n",
      "| Third Year| APPLIED MATHEMATICS| 20|         122|          52|2016|         2017|   Central |           24691|                28958|                      B|\n",
      "| Third Year|          STATISTICS| 21|         160|          52|2016|         2017|   Central |           36282|                48476|                      B|\n",
      "|Second Year|          STATISTICS| 21|         200|          65|2018|         2019|    Nairobi|            9726|                20195|                      B|\n",
      "+-----------+--------------------+---+------------+------------+----+-------------+-----------+----------------+---------------------+-----------------------+\n",
      "only showing top 20 rows\n",
      "\n"
     ]
    }
   ],
   "source": [
    "data = spark.read.csv(\"Hoanh/students_data.csv\",header=True, inferSchema=True)\n",
    "data.show()"
   ]
  },
  {
   "cell_type": "markdown",
   "id": "ac92406d-3683-46f1-8784-a15f712b90fe",
   "metadata": {},
   "source": [
    "thêm thư viện StreamingContext"
   ]
  },
  {
   "cell_type": "code",
   "execution_count": 36,
   "id": "ed7e1b06-32de-4a13-9cd6-787a1f7b1447",
   "metadata": {},
   "outputs": [],
   "source": [
    "from pyspark import SparkContext\n",
    "from pyspark.streaming import StreamingContext"
   ]
  },
  {
   "cell_type": "markdown",
   "id": "345d6a05-081b-499f-9b61-f3fff6611bf0",
   "metadata": {},
   "source": [
    "tạo StreamingContext cục bộ khoảng thời gian hàng loạt là 1 giây "
   ]
  },
  {
   "cell_type": "code",
   "execution_count": null,
   "id": "f2a6eb12-e27b-43ee-9108-0ceca3adf598",
   "metadata": {},
   "outputs": [],
   "source": [
    "ssc = StreamingContext(sc, 1)"
   ]
  },
  {
   "cell_type": "markdown",
   "id": "55dbb64f-1118-4a0a-b9f2-1eefa4d87ef7",
   "metadata": {},
   "source": [
    "tạo 1 DStream đại diện cho dữ liệu phát trực tuyến từ nguồn TCP chỉ định là máy chủ cổng (localhost :9994)"
   ]
  },
  {
   "cell_type": "code",
   "execution_count": null,
   "id": "bf819a54-f7e7-4cc2-a334-5e7ba26a9155",
   "metadata": {},
   "outputs": [],
   "source": [
    "lines = ssc.socketTextStream(\"localhost\", 9994)"
   ]
  },
  {
   "cell_type": "markdown",
   "id": "5d4f6caa-a9f5-4b44-8190-4afc67cfbbb9",
   "metadata": {},
   "source": [
    "chia các dòng theo khoảng cách thành các từ "
   ]
  },
  {
   "cell_type": "code",
   "execution_count": null,
   "id": "73f15106-5fcf-4519-9685-eaa5c29f2db4",
   "metadata": {},
   "outputs": [],
   "source": [
    "words = lines.flatMap(lambda line: line.split(\" \"))"
   ]
  },
  {
   "cell_type": "markdown",
   "id": "b7d8fff9-a196-4007-9184-1d188892cf0c",
   "metadata": {},
   "source": [
    "đếm những từ này "
   ]
  },
  {
   "cell_type": "code",
   "execution_count": null,
   "id": "13bdcd60-180c-4f76-9e11-f8ed192cb642",
   "metadata": {},
   "outputs": [],
   "source": [
    "pairs = words.map(lambda word: (word, 1))\n",
    "wordCounts = pairs .reduceByKey(lambda x, y: x + y)"
   ]
  },
  {
   "cell_type": "markdown",
   "id": "dbf216eb-50e1-4b7c-9e36-4d9083958e27",
   "metadata": {},
   "source": [
    "in số từ đếm được "
   ]
  },
  {
   "cell_type": "code",
   "execution_count": null,
   "id": "ebfcb278-ebfe-42d2-b421-9e3815ac29f3",
   "metadata": {},
   "outputs": [],
   "source": [
    "wordCounts.pprint()"
   ]
  },
  {
   "cell_type": "markdown",
   "id": "9c57324d-0cae-479d-8c15-111cf898604a",
   "metadata": {},
   "source": [
    "bắt đầu đếm cho đến khi kết thúc tiến trình "
   ]
  },
  {
   "cell_type": "code",
   "execution_count": null,
   "id": "51ee0da9-77e0-4463-a0fc-0333cc6092a1",
   "metadata": {},
   "outputs": [],
   "source": [
    "ssc.start()\n",
    "ssc.awaitTermination()"
   ]
  }
 ],
 "metadata": {
  "kernelspec": {
   "display_name": "Python 3 (ipykernel)",
   "language": "python",
   "name": "python3"
  },
  "language_info": {
   "codemirror_mode": {
    "name": "ipython",
    "version": 3
   },
   "file_extension": ".py",
   "mimetype": "text/x-python",
   "name": "python",
   "nbconvert_exporter": "python",
   "pygments_lexer": "ipython3",
   "version": "3.11.6"
  }
 },
 "nbformat": 4,
 "nbformat_minor": 5
}

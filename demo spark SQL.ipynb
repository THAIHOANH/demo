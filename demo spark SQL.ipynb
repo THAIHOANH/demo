{
 "cells": [
  {
   "cell_type": "markdown",
   "id": "a6f9e355-346e-46a6-a5e9-bab2d1bfd756",
   "metadata": {},
   "source": [
    "NHÓM 4 demo SPARK SQL "
   ]
  },
  {
   "cell_type": "markdown",
   "id": "4eba2dbc-d867-40b4-ab24-3991f6f9b99c",
   "metadata": {},
   "source": [
    "SỬ DỤNG SPARSESSION CHO PYSPARK"
   ]
  },
  {
   "cell_type": "code",
   "execution_count": 1,
   "id": "f12a3aac-d8fe-4e10-8ad1-8cdb26110563",
   "metadata": {},
   "outputs": [],
   "source": [
    "from pyspark.sql import SparkSession\n",
    "\n",
    "spark = SparkSession \\\n",
    "    .builder \\\n",
    "    .appName(\"Python Spark SQL basic example\") \\\n",
    "    .config(\"spark.some.config.option\", \"some-value\") \\\n",
    "    .getOrCreate()"
   ]
  },
  {
   "cell_type": "markdown",
   "id": "d3a7b61a-b57c-48a9-89c5-29649bac6665",
   "metadata": {},
   "source": [
    "TẠO DATAFRAMES"
   ]
  },
  {
   "cell_type": "code",
   "execution_count": 5,
   "id": "c7f8a138-e071-4960-b0cb-f899ea8e4f5a",
   "metadata": {
    "scrolled": true
   },
   "outputs": [
    {
     "name": "stdout",
     "output_type": "stream",
     "text": [
      "+-----------+--------------------+---+------------+------------+----+-------------+-----------+----------------+--------------------+--------------------+\n",
      "|        _c0|                 _c1|_c2|         _c3|         _c4| _c5|          _c6|        _c7|             _c8|                 _c9|                _c10|\n",
      "+-----------+--------------------+---+------------+------------+----+-------------+-----------+----------------+--------------------+--------------------+\n",
      "|YearofStudy|              Course|Age|ApproxHeight|ApproxWeight|KCSE|Yr_JoinCampus|    SitKCSE|Expense_Semester|Expense_Accommoda...|Previous_Exam_Mea...|\n",
      "|Second Year|         MATHEMATICS| 20|         152|          80|2016|         2018|   Central |            8744|                6043|                   B|\n",
      "| First Year|ECONOMICS AND STA...| 29|         182|          79|2010|         2010|Rift Valley|           26293|               14782|                   B|\n",
      "|Fourth Year|         MATHEMATICS| 22|         167|          64|2015|         2016|    Western|           44105|               19224|                   B|\n",
      "|Second Year|ECONOMICS AND STA...| 23|         149|          52|2016|         2018|      Coast|           33954|               18795|                   B|\n",
      "|Second Year|         MATHEMATICS| 18|         150|          70|2013|         2018|    Western|           18113|               25569|                   A|\n",
      "| Third Year|      URBAN PLANNING| 20|         154|          56|2016|         2017|   Central |           11648|               41028|                   A|\n",
      "| Third Year|         MATHEMATICS| 21|         165|          79|2016|         2017|Rift Valley|           39252|               44024|                   A|\n",
      "| Third Year|         MATHEMATICS| 21|         162|          57|2016|         2017|     Nyanza|           38174|               36925|                   B|\n",
      "|Fourth Year|   ACTUARIAL SCIENCE| 22|         154|          53|2015|         2016|     Nyanza|           40833|               27034|                   B|\n",
      "|Fourth Year|           ECONOMICS| 21|         172|          57|2015|         2016|Rift Valley|           42264|               26059|                   B|\n",
      "| Third Year|         MATHEMATICS| 22|         172|          78|2016|         2017|      Coast|            6811|               39242|                   C|\n",
      "|Second Year|         MATHEMATICS| 22|         160|          60|2015|         2016|      Coast|           34148|               37578|                   B|\n",
      "|Fourth Year|         MATHEMATICS| 23|         170|          66|2015|         2016|    Nairobi|           49155|               21501|                   B|\n",
      "| First Year|ECONOMICS AND STA...| 20|         167|          79|2010|         2010|    Nairobi|           23654|               17407|                   C|\n",
      "|Second Year|ECONOMICS AND STA...| 34|         176|          80|2012|         2012|   Eastern |           32733|               39019|                   E|\n",
      "| Third Year|          STATISTICS| 20|         150|          54|2016|         2017|   Central |           45232|               35910|                   B|\n",
      "| Third Year|ECONOMICS AND STA...| 21|         167|          45|2016|         2017|    Nairobi|           28393|                9384|                   B|\n",
      "| Third Year| APPLIED MATHEMATICS| 20|         122|          52|2016|         2017|   Central |           24691|               28958|                   B|\n",
      "| Third Year|          STATISTICS| 21|         160|          52|2016|         2017|   Central |           36282|               48476|                   B|\n",
      "+-----------+--------------------+---+------------+------------+----+-------------+-----------+----------------+--------------------+--------------------+\n",
      "only showing top 20 rows\n",
      "\n"
     ]
    }
   ],
   "source": [
    "# spark is an existing SparkSession\n",
    "df = spark.read.csv(\"Hoanh/students_data.csv\")\n",
    "# Displays the content of the DataFrame to stdout\n",
    "df.show()"
   ]
  },
  {
   "cell_type": "code",
   "execution_count": 6,
   "id": "2b39329c-e80b-41fe-aa2f-4c8389bb5d40",
   "metadata": {},
   "outputs": [
    {
     "name": "stdout",
     "output_type": "stream",
     "text": [
      "root\n",
      " |-- _c0: string (nullable = true)\n",
      " |-- _c1: string (nullable = true)\n",
      " |-- _c2: string (nullable = true)\n",
      " |-- _c3: string (nullable = true)\n",
      " |-- _c4: string (nullable = true)\n",
      " |-- _c5: string (nullable = true)\n",
      " |-- _c6: string (nullable = true)\n",
      " |-- _c7: string (nullable = true)\n",
      " |-- _c8: string (nullable = true)\n",
      " |-- _c9: string (nullable = true)\n",
      " |-- _c10: string (nullable = true)\n",
      "\n"
     ]
    }
   ],
   "source": [
    "df.printSchema()\n"
   ]
  },
  {
   "cell_type": "code",
   "execution_count": 10,
   "id": "3f12accc-1941-4568-bd58-0dd9379e55cb",
   "metadata": {},
   "outputs": [
    {
     "name": "stdout",
     "output_type": "stream",
     "text": [
      "+-----------+\n",
      "|        _c0|\n",
      "+-----------+\n",
      "|YearofStudy|\n",
      "|Second Year|\n",
      "| First Year|\n",
      "|Fourth Year|\n",
      "|Second Year|\n",
      "|Second Year|\n",
      "| Third Year|\n",
      "| Third Year|\n",
      "| Third Year|\n",
      "|Fourth Year|\n",
      "|Fourth Year|\n",
      "| Third Year|\n",
      "|Second Year|\n",
      "|Fourth Year|\n",
      "| First Year|\n",
      "|Second Year|\n",
      "| Third Year|\n",
      "| Third Year|\n",
      "| Third Year|\n",
      "| Third Year|\n",
      "+-----------+\n",
      "only showing top 20 rows\n",
      "\n"
     ]
    }
   ],
   "source": [
    "df.select(\"_c0\").show()"
   ]
  },
  {
   "cell_type": "code",
   "execution_count": 12,
   "id": "b605f5b7-71c9-47d5-863e-9fb263a4be7c",
   "metadata": {},
   "outputs": [
    {
     "name": "stdout",
     "output_type": "stream",
     "text": [
      "+-----------+---------+\n",
      "|        _c0|(_c2 + 1)|\n",
      "+-----------+---------+\n",
      "|YearofStudy|     NULL|\n",
      "|Second Year|     21.0|\n",
      "| First Year|     30.0|\n",
      "|Fourth Year|     23.0|\n",
      "|Second Year|     24.0|\n",
      "|Second Year|     19.0|\n",
      "| Third Year|     21.0|\n",
      "| Third Year|     22.0|\n",
      "| Third Year|     22.0|\n",
      "|Fourth Year|     23.0|\n",
      "|Fourth Year|     22.0|\n",
      "| Third Year|     23.0|\n",
      "|Second Year|     23.0|\n",
      "|Fourth Year|     24.0|\n",
      "| First Year|     21.0|\n",
      "|Second Year|     35.0|\n",
      "| Third Year|     21.0|\n",
      "| Third Year|     22.0|\n",
      "| Third Year|     21.0|\n",
      "| Third Year|     22.0|\n",
      "+-----------+---------+\n",
      "only showing top 20 rows\n",
      "\n"
     ]
    }
   ],
   "source": [
    "df.select(df['_c0'], df['_c2'] + 1).show()"
   ]
  },
  {
   "cell_type": "code",
   "execution_count": 15,
   "id": "edda638b-9b6b-4a28-8dd9-baf1760f2f13",
   "metadata": {},
   "outputs": [
    {
     "name": "stdout",
     "output_type": "stream",
     "text": [
      "+-----------+--------------------+---+---+---+----+----+-----------+-----+-----+----+\n",
      "|        _c0|                 _c1|_c2|_c3|_c4| _c5| _c6|        _c7|  _c8|  _c9|_c10|\n",
      "+-----------+--------------------+---+---+---+----+----+-----------+-----+-----+----+\n",
      "| First Year|ECONOMICS AND STA...| 29|182| 79|2010|2010|Rift Valley|26293|14782|   B|\n",
      "|Fourth Year|         MATHEMATICS| 22|167| 64|2015|2016|    Western|44105|19224|   B|\n",
      "|Second Year|ECONOMICS AND STA...| 23|149| 52|2016|2018|      Coast|33954|18795|   B|\n",
      "|Fourth Year|   ACTUARIAL SCIENCE| 22|154| 53|2015|2016|     Nyanza|40833|27034|   B|\n",
      "| Third Year|         MATHEMATICS| 22|172| 78|2016|2017|      Coast| 6811|39242|   C|\n",
      "|Second Year|         MATHEMATICS| 22|160| 60|2015|2016|      Coast|34148|37578|   B|\n",
      "|Fourth Year|         MATHEMATICS| 23|170| 66|2015|2016|    Nairobi|49155|21501|   B|\n",
      "|Second Year|ECONOMICS AND STA...| 34|176| 80|2012|2012|   Eastern |32733|39019|   E|\n",
      "| Third Year|          STATISTICS| 27|166| 75|2015|2017|    Nairobi|35034|26889|   A|\n",
      "|Fourth Year|         MATHEMATICS| 23|155| 72|2015|2016|   Eastern |44791|14681|   C|\n",
      "|Fourth Year|         MATHEMATICS| 24|153| 56|2015|2016|Rift Valley|48957|25285|   C|\n",
      "| Third Year|ECONOMICS AND STA...| 22|155| 58|2016|2017|      Coast|40620|24280|   B|\n",
      "|Second Year|         MATHEMATICS| 25|140| 54|2016|2018|   Central |45539| 5902|   C|\n",
      "| First Year|ECONOMICS AND STA...| 24|163| 75|2010|2010|Rift Valley|10251| 9951|   B|\n",
      "|Second Year|ECONOMICS AND STA...| 24|155| 57|2016|2018|      Coast|30190|32985|   B|\n",
      "|Second Year|         MATHEMATICS| 22|147| 58|2013|2018|    Western| 8835|44816|   A|\n",
      "| Third Year|      URBAN PLANNING| 24|154| 63|2016|2017|   Central |46738|22645|   A|\n",
      "| Third Year|         MATHEMATICS| 23|149| 66|2016|2017|Rift Valley|24766| 8508|   A|\n",
      "| Third Year|         MATHEMATICS| 22|164| 50|2016|2017|     Nyanza|13157|18850|   B|\n",
      "|Fourth Year|   ACTUARIAL SCIENCE| 23|176| 69|2015|2016|     Nyanza| 6171|10771|   B|\n",
      "+-----------+--------------------+---+---+---+----+----+-----------+-----+-----+----+\n",
      "only showing top 20 rows\n",
      "\n"
     ]
    }
   ],
   "source": [
    "df.filter(df['_c2'] > 21).show()"
   ]
  },
  {
   "cell_type": "code",
   "execution_count": 16,
   "id": "8bdd68ee-2a82-4804-a715-2e55b251d84e",
   "metadata": {},
   "outputs": [
    {
     "name": "stdout",
     "output_type": "stream",
     "text": [
      "+---+-----+\n",
      "|_c2|count|\n",
      "+---+-----+\n",
      "| 29|    1|\n",
      "| 34|    1|\n",
      "| 22|   13|\n",
      "| 18|    2|\n",
      "| 27|    1|\n",
      "|Age|    1|\n",
      "| 23|    9|\n",
      "| 25|    4|\n",
      "| 24|    5|\n",
      "| 20|   11|\n",
      "| 21|   15|\n",
      "+---+-----+\n",
      "\n"
     ]
    }
   ],
   "source": [
    "df.groupBy(\"_c2\").count().show()"
   ]
  },
  {
   "cell_type": "markdown",
   "id": "8778a0ff-0f11-4787-a421-1577fb49618a",
   "metadata": {},
   "source": [
    "CHẠY TRUY VẤN SQL "
   ]
  },
  {
   "cell_type": "code",
   "execution_count": 17,
   "id": "45a0875f-9f8f-4aa2-bd6a-dab76564d5be",
   "metadata": {},
   "outputs": [
    {
     "name": "stdout",
     "output_type": "stream",
     "text": [
      "+-----------+--------------------+---+------------+------------+----+-------------+-----------+----------------+--------------------+--------------------+\n",
      "|        _c0|                 _c1|_c2|         _c3|         _c4| _c5|          _c6|        _c7|             _c8|                 _c9|                _c10|\n",
      "+-----------+--------------------+---+------------+------------+----+-------------+-----------+----------------+--------------------+--------------------+\n",
      "|YearofStudy|              Course|Age|ApproxHeight|ApproxWeight|KCSE|Yr_JoinCampus|    SitKCSE|Expense_Semester|Expense_Accommoda...|Previous_Exam_Mea...|\n",
      "|Second Year|         MATHEMATICS| 20|         152|          80|2016|         2018|   Central |            8744|                6043|                   B|\n",
      "| First Year|ECONOMICS AND STA...| 29|         182|          79|2010|         2010|Rift Valley|           26293|               14782|                   B|\n",
      "|Fourth Year|         MATHEMATICS| 22|         167|          64|2015|         2016|    Western|           44105|               19224|                   B|\n",
      "|Second Year|ECONOMICS AND STA...| 23|         149|          52|2016|         2018|      Coast|           33954|               18795|                   B|\n",
      "|Second Year|         MATHEMATICS| 18|         150|          70|2013|         2018|    Western|           18113|               25569|                   A|\n",
      "| Third Year|      URBAN PLANNING| 20|         154|          56|2016|         2017|   Central |           11648|               41028|                   A|\n",
      "| Third Year|         MATHEMATICS| 21|         165|          79|2016|         2017|Rift Valley|           39252|               44024|                   A|\n",
      "| Third Year|         MATHEMATICS| 21|         162|          57|2016|         2017|     Nyanza|           38174|               36925|                   B|\n",
      "|Fourth Year|   ACTUARIAL SCIENCE| 22|         154|          53|2015|         2016|     Nyanza|           40833|               27034|                   B|\n",
      "|Fourth Year|           ECONOMICS| 21|         172|          57|2015|         2016|Rift Valley|           42264|               26059|                   B|\n",
      "| Third Year|         MATHEMATICS| 22|         172|          78|2016|         2017|      Coast|            6811|               39242|                   C|\n",
      "|Second Year|         MATHEMATICS| 22|         160|          60|2015|         2016|      Coast|           34148|               37578|                   B|\n",
      "|Fourth Year|         MATHEMATICS| 23|         170|          66|2015|         2016|    Nairobi|           49155|               21501|                   B|\n",
      "| First Year|ECONOMICS AND STA...| 20|         167|          79|2010|         2010|    Nairobi|           23654|               17407|                   C|\n",
      "|Second Year|ECONOMICS AND STA...| 34|         176|          80|2012|         2012|   Eastern |           32733|               39019|                   E|\n",
      "| Third Year|          STATISTICS| 20|         150|          54|2016|         2017|   Central |           45232|               35910|                   B|\n",
      "| Third Year|ECONOMICS AND STA...| 21|         167|          45|2016|         2017|    Nairobi|           28393|                9384|                   B|\n",
      "| Third Year| APPLIED MATHEMATICS| 20|         122|          52|2016|         2017|   Central |           24691|               28958|                   B|\n",
      "| Third Year|          STATISTICS| 21|         160|          52|2016|         2017|   Central |           36282|               48476|                   B|\n",
      "+-----------+--------------------+---+------------+------------+----+-------------+-----------+----------------+--------------------+--------------------+\n",
      "only showing top 20 rows\n",
      "\n"
     ]
    }
   ],
   "source": [
    "df.createOrReplaceTempView(\"students_data\")\n",
    "\n",
    "sqlDF = spark.sql(\"SELECT * FROM students_data\")\n",
    "sqlDF.show()"
   ]
  },
  {
   "cell_type": "code",
   "execution_count": null,
   "id": "b742d45a-54da-4704-aab0-4b194cca8ae3",
   "metadata": {},
   "outputs": [],
   "source": []
  }
 ],
 "metadata": {
  "kernelspec": {
   "display_name": "Python 3 (ipykernel)",
   "language": "python",
   "name": "python3"
  },
  "language_info": {
   "codemirror_mode": {
    "name": "ipython",
    "version": 3
   },
   "file_extension": ".py",
   "mimetype": "text/x-python",
   "name": "python",
   "nbconvert_exporter": "python",
   "pygments_lexer": "ipython3",
   "version": "3.11.6"
  }
 },
 "nbformat": 4,
 "nbformat_minor": 5
}
